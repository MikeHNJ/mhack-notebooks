{
 "cells": [
  {
   "cell_type": "markdown",
   "metadata": {},
   "source": [
    "# Create a DataFrame from an image"
   ]
  },
  {
   "cell_type": "code",
   "execution_count": 89,
   "metadata": {},
   "outputs": [],
   "source": [
    "from PIL import Image\n",
    "import numpy as np\n",
    "import pandas as pd"
   ]
  },
  {
   "cell_type": "markdown",
   "metadata": {},
   "source": [
    "## Load an image\n",
    "This is currently local to my machine, but could be changed to a URL. It should be a black and white image with dimensions less than 255x255.  "
   ]
  },
  {
   "cell_type": "code",
   "execution_count": 90,
   "metadata": {},
   "outputs": [
    {
     "name": "stdout",
     "output_type": "stream",
     "text": [
      "C:\\Users\\micha269\\pydata-book\\mike\\get-well.png\n"
     ]
    }
   ],
   "source": [
    "message_image_path = \"C:\\\\Users\\\\micha269\\\\pydata-book\\\\mike\\\\message.png\"\n",
    "print(message_image_path)"
   ]
  },
  {
   "cell_type": "code",
   "execution_count": 91,
   "metadata": {},
   "outputs": [],
   "source": [
    "message_image = Image.open(message_image_path)\n",
    "message_image.show()\n"
   ]
  },
  {
   "cell_type": "code",
   "execution_count": 92,
   "metadata": {},
   "outputs": [
    {
     "name": "stdout",
     "output_type": "stream",
     "text": [
      "Width: 250, Height: 200\n"
     ]
    }
   ],
   "source": [
    "print(f\"Width: {message_image.width}, Height: {message_image.height}\")"
   ]
  },
  {
   "cell_type": "code",
   "execution_count": 101,
   "metadata": {},
   "outputs": [
    {
     "data": {
      "text/plain": [
       "(0, 0, 0)"
      ]
     },
     "execution_count": 101,
     "metadata": {},
     "output_type": "execute_result"
    }
   ],
   "source": [
    "message_image.getpixel((37,51))"
   ]
  },
  {
   "cell_type": "code",
   "execution_count": 116,
   "metadata": {},
   "outputs": [],
   "source": [
    "import numpy as np\n",
    "import pandas as pd"
   ]
  },
  {
   "cell_type": "code",
   "execution_count": 142,
   "metadata": {},
   "outputs": [],
   "source": [
    "def GetImagePoints (image) :\n",
    "\n",
    "    x_values = []\n",
    "    y_values = []\n",
    "\n",
    "    for x in range(image.width):\n",
    "        for y in range(image.height):\n",
    "            if image.getpixel((x,y)) == (0,0,0):\n",
    "                x_values.append(x)\n",
    "                y_values.append(image.height - y)\n",
    "    return pd.DataFrame({'x': x_values, 'y': y_values})\n"
   ]
  },
  {
   "cell_type": "code",
   "execution_count": 163,
   "metadata": {},
   "outputs": [],
   "source": [
    "message_points = GetImagePoints(message_image)"
   ]
  },
  {
   "cell_type": "code",
   "execution_count": 167,
   "metadata": {},
   "outputs": [],
   "source": [
    "message_points.to_csv( \"C:\\\\Users\\\\micha269\\\\pydata-book\\\\mike\\\\message_points.csv\", index=False)"
   ]
  }
 ],
 "metadata": {
  "kernelspec": {
   "display_name": "Python 3",
   "language": "python",
   "name": "python3"
  },
  "language_info": {
   "codemirror_mode": {
    "name": "ipython",
    "version": 3
   },
   "file_extension": ".py",
   "mimetype": "text/x-python",
   "name": "python",
   "nbconvert_exporter": "python",
   "pygments_lexer": "ipython3",
   "version": "3.7.6"
  }
 },
 "nbformat": 4,
 "nbformat_minor": 1
}
